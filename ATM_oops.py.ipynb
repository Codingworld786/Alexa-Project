{
 "cells": [
  {
   "cell_type": "code",
   "execution_count": 1,
   "id": "fda00eba",
   "metadata": {},
   "outputs": [
    {
     "name": "stdout",
     "output_type": "stream",
     "text": [
      "hello\n",
      "\n",
      "                       Hello,how would you like to proceed?\n",
      "                       1.Enter 1 to create pin\n",
      "                       2.Enter 2 to withdraw\n",
      "                       3.Enter 3 to deposit\n",
      "                       4.Enter 4 to check balance\n",
      "                       5.Enter 5 to exit\n",
      "           5\n",
      "bye\n"
     ]
    }
   ],
   "source": [
    " class Atm:\n",
    "        # constructor is a spcl func jiske ander ka code automaticaly execute hoga jese hi hm iska object bnayengai\n",
    "        def __init__(self):  #init must be our constructor\n",
    "            print(\"hello\")\n",
    "            # declare variable\n",
    "            self.pin=\"1234\"\n",
    "            self.balance=1000\n",
    "            self.menu()\n",
    "        # method 1 of class Atm to check menu  \n",
    "        def menu(self): #\n",
    "            user_input=input(\"\"\"\n",
    "                        Hello,how would you like to proceed?\n",
    "                        1.Enter 1 to create pin\n",
    "                        2.Enter 2 to withdraw\n",
    "                        3.Enter 3 to deposit\n",
    "                        4.Enter 4 to check balance\n",
    "                        5.Enter 5 to exit\n",
    "            \"\"\")\n",
    "            \n",
    "            if user_input=='1':\n",
    "                print(\"create pin\")\n",
    "                self.create_pin()\n",
    "            elif user_input=='2':\n",
    "                print(\"deposit\")\n",
    "                self.deposit()\n",
    "            elif user_input=='3':\n",
    "                print(\"withdraw\")\n",
    "                self.withdraw()\n",
    "            elif user_input=='4':\n",
    "                print(\"check balance\")\n",
    "                self.check_balance()\n",
    "            else:\n",
    "                print(\"bye\")\n",
    "    \n",
    "        \n",
    "       # method 2 of class Atm #digit limited to 4 and input must integer\n",
    "   \n",
    "        def create_pin(self):\n",
    "            self.pin=input(\"Enetr your pin\")\n",
    "             \n",
    "           \n",
    "            \n",
    "            print(\"pin set successfully\")\n",
    "            print(\"Thank you\")\n",
    "        def deposit(self):\n",
    "            entered_pin=input(\"Enter your pin\")\n",
    "            if entered_pin==self.pin:\n",
    "                print(\" congrats you entered valid pin\")\n",
    "                amount=int(input(\"Enetr the amount you want to deposit\"))\n",
    "                self.balance+=amount\n",
    "                print(f\"Your total balance is{self.balance}\")\n",
    "                print(\"Deposits successful\")\n",
    "            else:\n",
    "                print(\"Invalid pin\")\n",
    "        def withdraw(self):\n",
    "           \n",
    "            entered_pin=input(\"Enter your pin\")\n",
    "            if entered_pin==self.pin:\n",
    "                print(\" congrats you entered valid pin\")\n",
    "                amount=int(input(\"Enetr the amount you want to withdraw\"))\n",
    "                if amount<self.balance:\n",
    "                    self.balance-=amount\n",
    "                    print(f\"Your total balance is {self.balance}\")\n",
    "                    print(\"withdraw successful\")\n",
    "                else:\n",
    "                    print(\"insufficient funds\")\n",
    "            else:\n",
    "                print(\"Invalid pin\")\n",
    "                \n",
    "        def check_balance(self):\n",
    "            entered_pin=input(\"Enter your pin\")\n",
    "            if entered_pin==self.pin:\n",
    "                print(\" congrats you entered valid pin\")\n",
    "                print( f\" your total balance is {self.balance}\")\n",
    "            else:\n",
    "                print(\"invalid pin \")\n",
    "            \n",
    "            \n",
    "            \n",
    "            \n",
    "sbi=Atm() \n",
    "\n",
    "# problems pin input want to change into limited integers\n",
    "# after deposit money how update balance so that can withdraw\n"
   ]
  },
  {
   "cell_type": "code",
   "execution_count": null,
   "id": "a8c04969",
   "metadata": {},
   "outputs": [],
   "source": []
  },
  {
   "cell_type": "code",
   "execution_count": 2,
   "id": "3868623f",
   "metadata": {},
   "outputs": [],
   "source": [
    "# WAP to create ATM operation with the following operation:-\n",
    "\n",
    "# 1)  Enter pin code and provide three attempt\n",
    "\n",
    "# 2)  Manage Credit, Debit and Check Balance Operation\n",
    "\n",
    "# 3)  Create a program using OOPS concept\n",
    "\n"
   ]
  },
  {
   "cell_type": "code",
   "execution_count": 3,
   "id": "8781c52c",
   "metadata": {},
   "outputs": [],
   "source": [
    "# # generate password\n",
    "# import random \n",
    "# import string\n",
    "# def rand_pass(size):\n",
    "#     generate_pass=''.join([random.choice\n",
    "#     (string.ascii_lowercase+string.digits+string.ascii_uppercase)\n",
    "#                           for n in range(size)\n",
    "#                           ])\n",
    "#     return generate_pass\n",
    "# password=rand_pass(4)\n",
    "# print(password)"
   ]
  },
  {
   "cell_type": "code",
   "execution_count": 4,
   "id": "9d936041",
   "metadata": {},
   "outputs": [],
   "source": [
    "# x=random.randint(3,7)\n",
    "# x"
   ]
  },
  {
   "cell_type": "code",
   "execution_count": 5,
   "id": "edadc4c6",
   "metadata": {},
   "outputs": [],
   "source": [
    "# choice=int(input(\"Enter your input\"))\n",
    "# # while True:\n",
    "# if (choice==0):\n",
    "#     print(\"what would you like today?\\n1.create customer profile\\2.view transaction history\\n3.search customer profile\")\n",
    "        "
   ]
  },
  {
   "cell_type": "code",
   "execution_count": null,
   "id": "c1247004",
   "metadata": {},
   "outputs": [],
   "source": []
  }
 ],
 "metadata": {
  "kernelspec": {
   "display_name": "Python 3 (ipykernel)",
   "language": "python",
   "name": "python3"
  },
  "language_info": {
   "codemirror_mode": {
    "name": "ipython",
    "version": 3
   },
   "file_extension": ".py",
   "mimetype": "text/x-python",
   "name": "python",
   "nbconvert_exporter": "python",
   "pygments_lexer": "ipython3",
   "version": "3.9.12"
  }
 },
 "nbformat": 4,
 "nbformat_minor": 5
}
