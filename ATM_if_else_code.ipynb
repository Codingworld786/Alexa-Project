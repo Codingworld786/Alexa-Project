{
 "cells": [
  {
   "cell_type": "code",
   "execution_count": 1,
   "id": "2b272a92",
   "metadata": {},
   "outputs": [
    {
     "name": "stdout",
     "output_type": "stream",
     "text": [
      "HMIk\n"
     ]
    }
   ],
   "source": [
    "import random \n",
    "import string\n",
    "def rand_pass(size):\n",
    "    generate_pass=''.join([random.choice\n",
    "    (string.ascii_lowercase+string.digits+string.ascii_uppercase)\n",
    "                          for n in range(size)\n",
    "                          ])\n",
    "    return generate_pass\n",
    "password=rand_pass(4)\n",
    "print(password)"
   ]
  },
  {
   "cell_type": "markdown",
   "id": "3e60fe06",
   "metadata": {},
   "source": [
    "# ATM_demo"
   ]
  },
  {
   "cell_type": "code",
   "execution_count": 2,
   "id": "62a4df73",
   "metadata": {},
   "outputs": [
    {
     "name": "stdout",
     "output_type": "stream",
     "text": [
      "Welcome to the Canara Bank\n",
      "Enter 0 to proceed and 1 for terminate\n",
      "Enter choice11\n",
      "enter choice2\n",
      "Enter First Nameb\n",
      "Enter Last Namen\n",
      "Enetr Addressb\n",
      "\n",
      " created username is: nb and password is Veo \n",
      "\n"
     ]
    }
   ],
   "source": [
    "# cust_profile=()\n",
    "usernames=[\"rajai\"]\n",
    "cnt=0\n",
    "\n",
    "print(\"Welcome to the Canara Bank\")\n",
    "print(\"Enter 0 to proceed and 1 for terminate\")\n",
    "\n",
    "\n",
    "# choice=int(input(\"enter choice\"))\n",
    "choice1=input(\"Enter choice1\")\n",
    "\n",
    "if choice1==1:\n",
    "    print(\"You entered 1 continue....\")\n",
    "    print(\"Fill the following details to Login\")\n",
    "else:\n",
    "    exit()\n",
    "    choice=int(input(\"enter choice\"))\n",
    "    if (choice==2):\n",
    "\n",
    "        firstname=input(\"Enter First Name\")\n",
    "        lastname=input(\"Enter Last Name\")\n",
    "        address=input(\"Enetr Address\")\n",
    "        username=lastname[0:2]+firstname\n",
    "        username_integer=username+str(cnt)\n",
    "    #     cash_deposit=int(\"how much money you want to add\")\n",
    "    # print(username)\n",
    "        if (username not in usernames):\n",
    "            temp=username\n",
    "            temp2=rand_pass(3)\n",
    "            usernames.append(username)\n",
    "\n",
    "            with open(\"jai.txt\",\"a\") as f:\n",
    "                f.write('username:'+username+\"t\"+\"password:\"+temp2+'\\t'+'first name:'+firstname+'\\t'+\"lastname:\"+lastname+\"\\t\"+\"address\"+address+\"\\t\"+\"lastname:\"+lastname+\"\\t\"+\"\\n\")\n",
    "                print(\"\\n created username is:\",temp,\"and password is\",temp2,\"\\n\")\n",
    "        else:\n",
    "            \n",
    "            cnt=cnt+1\n",
    "            temp=username_integer\n",
    "            temp2=randompassword()\n",
    "            username.append(username)\n",
    "            f.write('username:'+username+\"t\"+\"password:\"+temp2+'\\t'+'first name:'+firstname+'\\t'+\"lastname:\"+lastname+\"\\t\"+\"address:\"+address+\"\\t\"+\"lastname:\"+lastname+\"\\t\"+\"\\n\")\n",
    "            print(\"\\n created username is:\",temp,\"and password is\",temp2,\"\\n\")\n",
    "\n",
    "\n",
    "\n",
    "    #         with open (customer_profile,'r') as f:\n",
    "    #         file=open(\"cust_profile.txt\",'w')\n",
    "    #         file.write['username:'+username+\"t\"+\"password:\"+temp2+'\\t'+'first name:'+firstname+'\\t'+\"lastname:\"+lastname+\"\\t\"+\"address\"+address+\"\\n\"]\n",
    "    #         file=open(\"cust_profile\",\"w\")\n",
    "    #         file.write[\"username:\"+ username +\"\\t\"]\n",
    "    elif(choice==3):\n",
    "        username=input('Enter username that you would like to view ')\n",
    "        transactionfilename=username+'_transactionhistory.txt'\n",
    "        transactionfile=open(transactionfilename,'a')\n",
    "        with open (transactionfilename,'r') as f:\n",
    "            f.seek(0) # seek function to show from which index we want out text start\n",
    "            if f.read(1):\n",
    "                print(f.read())\n",
    "    #             break\n",
    "            else:\n",
    "                print(\"There is no transaction history of this customer\")\n",
    "    #             break\n",
    "\n",
    "    elif(choice==4):\n",
    "        \n",
    "        data=input(\"please enter customer detail to search:\")\n",
    "#         file=open(\"jai.txt\",\"a\")\n",
    "#         file.write(\"username:\"+ username )\n",
    "#         file.write(\"password:\"+temp2)\n",
    "        with open(\"jai.txt\",\"a\") as f:\n",
    "            f.write('username:'+username+\"t\"+\"password:\"+temp2+'\\t'+'first name:'+firstname+'\\t'+\"lastname:\"+lastname+\"\\t\"+\"address\"+address+\"\\t\"+\"lastname:\"+lastname+\"\\t\"+\"\\n\")\n",
    "            for line in f:\n",
    "                line=line.rstrip()\n",
    "                if data in line:\n",
    "                    print(line)\n",
    "    # break\n",
    "    else:\n",
    "        exit()"
   ]
  },
  {
   "cell_type": "markdown",
   "id": "f05689be",
   "metadata": {},
   "source": [
    "# "
   ]
  },
  {
   "cell_type": "code",
   "execution_count": 4,
   "id": "9d104ede",
   "metadata": {},
   "outputs": [],
   "source": [
    "# import pandas as pd\n",
    "# data={\n",
    "#     \"Name\":[username],\n",
    "#     \"firstname\":[firstname],\n",
    "#     \"lastname\":[lastname]\n",
    "# }\n",
    "# df=pd.DataFrame(data)\n",
    "# print(df)"
   ]
  },
  {
   "cell_type": "markdown",
   "id": "86845bfd",
   "metadata": {},
   "source": [
    "# Table function"
   ]
  },
  {
   "cell_type": "code",
   "execution_count": 6,
   "id": "3e4d82a1",
   "metadata": {},
   "outputs": [],
   "source": [
    "# to create table\n",
    "# x=int(input('enter the number: '))\n",
    "# y=int(input('enter the number to which you want to write the table'))\n",
    "# # empty list to store the table\n",
    "# L=[]\n",
    "# #Table function\n",
    "# def table(m):\n",
    "#     for i in range (0,y+1):\n",
    "#         L.append(str((f'{m}x{i}={m*i}\\n')))\n",
    "# table(x) \n",
    "# print(L)\n",
    "# f=open('table.txt','w')\n",
    "# f.writelines(L)\n",
    "# f.close()"
   ]
  },
  {
   "cell_type": "markdown",
   "id": "3a8edb92",
   "metadata": {},
   "source": [
    "# Tabulate"
   ]
  },
  {
   "cell_type": "code",
   "execution_count": 8,
   "id": "692e529b",
   "metadata": {},
   "outputs": [
    {
     "name": "stdout",
     "output_type": "stream",
     "text": [
      "-----  -----\n",
      "name   jai\n",
      "city   hisar\n",
      "class  12th\n",
      "-----  -----\n",
      "None\n"
     ]
    }
   ],
   "source": [
    "# from tabulate import tabulate\n",
    "# def func(dict1):\n",
    "\n",
    "#     outputList = dict1.items()\n",
    "#     table = outputList\n",
    "#     print (tabulate(table))\n",
    "#     # print(table)\n",
    "# dict1={\n",
    "#     \"name\":\"jai\",\n",
    "#     \"city\":\"hisar\",\n",
    "#     \"class\":\"12th\"\n",
    "# }\n",
    "# print(func(dict1))"
   ]
  },
  {
   "cell_type": "markdown",
   "id": "ccfbf5f1",
   "metadata": {},
   "source": [
    "# class Login:"
   ]
  },
  {
   "cell_type": "code",
   "execution_count": null,
   "id": "ca2fd977",
   "metadata": {},
   "outputs": [],
   "source": []
  },
  {
   "cell_type": "code",
   "execution_count": null,
   "id": "7613ee77",
   "metadata": {},
   "outputs": [],
   "source": [
    "# class Login:\n",
    "#     error=None\n",
    "#     def __init__(self,user_id,user_pass):\n",
    "#         self.user_id=\"jaishree\"\n",
    "#         self.user_pass=\"1234\"\n",
    "#         Login.error=\"enter a valid user id and password\"\n",
    "        \n",
    "#     def authenticate(self):\n",
    "#         if (self.user_id==login_id and self.user_pass==login_pass ):\n",
    "#             print(\"Login successfull\")\n",
    "#         else:\n",
    "#             print(Login.error)\n",
    "        \n",
    "        \n",
    "# log=Login(\"\",\"\")       \n",
    "# login_id=input(\"Enter Userid\")\n",
    "# login_pass=input(\"Enter your password\")\n",
    "\n",
    "# log.authenticate()"
   ]
  },
  {
   "cell_type": "markdown",
   "id": "02b8b0ee",
   "metadata": {},
   "source": [
    "# admission code"
   ]
  },
  {
   "cell_type": "code",
   "execution_count": null,
   "id": "41a72c5b",
   "metadata": {},
   "outputs": [],
   "source": [
    "# # admission code\n",
    "# class Admission:\n",
    "   \n",
    "#     error=None\n",
    "#     def __init__(self,gate_score,branch):\n",
    "        \n",
    "#         self.gate_score=\"855\"\n",
    "#         self.branch=\"Agriculture\"\n",
    "#         Admission.error=\"You are not eligible for given criteria\"\n",
    "        \n",
    "#     def Admission_accept(self):\n",
    "#         if (self.gate_score<=candidate_gatescore and self.branch==candidate_branch):\n",
    "#             print(\"Your admission is acceptable\")\n",
    "            \n",
    "#         else:\n",
    "#             print(Admission.error)\n",
    "                \n",
    "\n",
    "# adm=Admission(\"\",\"\")\n",
    "\n",
    "# candidate_gatescore=input(\"enter your gatescore\")\n",
    "# candidate_branch=input(\"enter your branch\")\n",
    "\n",
    "# adm.Admission_accept()\n",
    "\n",
    "        "
   ]
  }
 ],
 "metadata": {
  "kernelspec": {
   "display_name": "Python 3 (ipykernel)",
   "language": "python",
   "name": "python3"
  },
  "language_info": {
   "codemirror_mode": {
    "name": "ipython",
    "version": 3
   },
   "file_extension": ".py",
   "mimetype": "text/x-python",
   "name": "python",
   "nbconvert_exporter": "python",
   "pygments_lexer": "ipython3",
   "version": "3.9.12"
  }
 },
 "nbformat": 4,
 "nbformat_minor": 5
}
