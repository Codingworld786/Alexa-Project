{
 "cells": [
  {
   "cell_type": "code",
   "execution_count": 12,
   "metadata": {},
   "outputs": [
    {
     "name": "stdout",
     "output_type": "stream",
     "text": [
      "Defaulting to user installation because normal site-packages is not writeable\n",
      "Collecting pyttsx3\n",
      "  Downloading pyttsx3-2.90-py3-none-any.whl (39 kB)\n",
      "Collecting comtypes\n",
      "  Downloading comtypes-1.1.14-py2.py3-none-any.whl (172 kB)\n",
      "     -------------------------------------- 172.8/172.8 kB 1.2 MB/s eta 0:00:00\n",
      "Requirement already satisfied: pypiwin32 in c:\\users\\shree ganesh\\appdata\\roaming\\python\\python310\\site-packages (from pyttsx3) (223)\n",
      "Requirement already satisfied: pywin32 in c:\\users\\shree ganesh\\appdata\\roaming\\python\\python310\\site-packages (from pyttsx3) (304)\n",
      "Installing collected packages: comtypes, pyttsx3\n",
      "Successfully installed comtypes-1.1.14 pyttsx3-2.90\n",
      "Note: you may need to restart the kernel to use updated packages.\n"
     ]
    },
    {
     "name": "stderr",
     "output_type": "stream",
     "text": [
      "\n",
      "[notice] A new release of pip available: 22.3.1 -> 23.0.1\n",
      "[notice] To update, run: python.exe -m pip install --upgrade pip\n"
     ]
    }
   ],
   "source": [
    "pip install pyttsx3"
   ]
  },
  {
   "cell_type": "code",
   "execution_count": 7,
   "metadata": {},
   "outputs": [
    {
     "name": "stdout",
     "output_type": "stream",
     "text": [
      "Defaulting to user installation because normal site-packages is not writeable\n",
      "Requirement already satisfied: wikipedia in c:\\users\\shree ganesh\\appdata\\roaming\\python\\python310\\site-packages (1.4.0)\n",
      "Requirement already satisfied: beautifulsoup4 in c:\\users\\shree ganesh\\appdata\\roaming\\python\\python310\\site-packages (from wikipedia) (4.11.1)\n",
      "Requirement already satisfied: requests<3.0.0,>=2.0.0 in c:\\users\\shree ganesh\\appdata\\roaming\\python\\python310\\site-packages (from wikipedia) (2.28.1)\n",
      "Requirement already satisfied: idna<4,>=2.5 in c:\\users\\shree ganesh\\appdata\\roaming\\python\\python310\\site-packages (from requests<3.0.0,>=2.0.0->wikipedia) (3.3)\n",
      "Requirement already satisfied: certifi>=2017.4.17 in c:\\users\\shree ganesh\\appdata\\roaming\\python\\python310\\site-packages (from requests<3.0.0,>=2.0.0->wikipedia) (2022.6.15)\n",
      "Requirement already satisfied: charset-normalizer<3,>=2 in c:\\users\\shree ganesh\\appdata\\roaming\\python\\python310\\site-packages (from requests<3.0.0,>=2.0.0->wikipedia) (2.1.0)\n",
      "Requirement already satisfied: urllib3<1.27,>=1.21.1 in c:\\users\\shree ganesh\\appdata\\roaming\\python\\python310\\site-packages (from requests<3.0.0,>=2.0.0->wikipedia) (1.26.9)\n",
      "Requirement already satisfied: soupsieve>1.2 in c:\\users\\shree ganesh\\appdata\\roaming\\python\\python310\\site-packages (from beautifulsoup4->wikipedia) (2.3.2.post1)\n",
      "Note: you may need to restart the kernel to use updated packages.\n"
     ]
    }
   ],
   "source": [
    "pip install wikipedia"
   ]
  },
  {
   "cell_type": "code",
   "execution_count": 2,
   "metadata": {},
   "outputs": [
    {
     "name": "stdout",
     "output_type": "stream",
     "text": [
      "Defaulting to user installation because normal site-packages is not writeable\n",
      "Collecting PyAudio\n",
      "  Downloading PyAudio-0.2.13-cp310-cp310-win_amd64.whl (164 kB)\n",
      "     -------------------------------------- 164.1/164.1 kB 1.1 MB/s eta 0:00:00\n",
      "Installing collected packages: PyAudio\n",
      "Successfully installed PyAudio-0.2.13\n",
      "Note: you may need to restart the kernel to use updated packages.\n"
     ]
    },
    {
     "name": "stderr",
     "output_type": "stream",
     "text": [
      "\n",
      "[notice] A new release of pip available: 22.3.1 -> 23.0.1\n",
      "[notice] To update, run: python.exe -m pip install --upgrade pip\n"
     ]
    }
   ],
   "source": [
    "pip install PyAudio"
   ]
  },
  {
   "cell_type": "code",
   "execution_count": 33,
   "metadata": {},
   "outputs": [
    {
     "name": "stdout",
     "output_type": "stream",
     "text": [
      "Defaulting to user installation because normal site-packages is not writeable\n",
      "Collecting pywhatkit\n",
      "  Downloading pywhatkit-5.4-py3-none-any.whl (15 kB)\n",
      "Requirement already satisfied: Pillow in c:\\users\\shree ganesh\\appdata\\roaming\\python\\python310\\site-packages (from pywhatkit) (9.1.1)\n",
      "Collecting Flask\n",
      "  Downloading Flask-2.2.3-py3-none-any.whl (101 kB)\n",
      "     ------------------------------------ 101.8/101.8 kB 840.4 kB/s eta 0:00:00\n",
      "Collecting pyautogui\n",
      "  Downloading PyAutoGUI-0.9.53.tar.gz (59 kB)\n",
      "     -------------------------------------- 59.0/59.0 kB 774.5 kB/s eta 0:00:00\n",
      "  Preparing metadata (setup.py): started\n",
      "  Preparing metadata (setup.py): finished with status 'done'\n",
      "Requirement already satisfied: requests in c:\\users\\shree ganesh\\appdata\\roaming\\python\\python310\\site-packages (from pywhatkit) (2.28.1)\n",
      "Collecting wikipedia\n",
      "  Downloading wikipedia-1.4.0.tar.gz (27 kB)\n",
      "  Preparing metadata (setup.py): started\n",
      "  Preparing metadata (setup.py): finished with status 'done'\n",
      "Requirement already satisfied: click>=8.0 in c:\\users\\shree ganesh\\appdata\\roaming\\python\\python310\\site-packages (from Flask->pywhatkit) (8.1.3)\n",
      "Collecting itsdangerous>=2.0\n",
      "  Downloading itsdangerous-2.1.2-py3-none-any.whl (15 kB)\n",
      "Collecting Werkzeug>=2.2.2\n",
      "  Downloading Werkzeug-2.2.3-py3-none-any.whl (233 kB)\n",
      "     -------------------------------------- 233.6/233.6 kB 1.8 MB/s eta 0:00:00\n",
      "Requirement already satisfied: Jinja2>=3.0 in c:\\users\\shree ganesh\\appdata\\roaming\\python\\python310\\site-packages (from Flask->pywhatkit) (3.1.2)\n",
      "Collecting pymsgbox\n",
      "  Downloading PyMsgBox-1.0.9.tar.gz (18 kB)\n",
      "  Installing build dependencies: started\n",
      "  Installing build dependencies: finished with status 'done'\n",
      "  Getting requirements to build wheel: started\n",
      "  Getting requirements to build wheel: finished with status 'done'\n",
      "  Preparing metadata (pyproject.toml): started\n",
      "  Preparing metadata (pyproject.toml): finished with status 'done'\n",
      "Collecting PyTweening>=1.0.1\n",
      "  Downloading pytweening-1.0.4.tar.gz (14 kB)\n",
      "  Preparing metadata (setup.py): started\n",
      "  Preparing metadata (setup.py): finished with status 'done'\n",
      "Collecting pyscreeze>=0.1.21\n",
      "  Downloading PyScreeze-0.1.28.tar.gz (25 kB)\n",
      "  Installing build dependencies: started\n",
      "  Installing build dependencies: finished with status 'done'\n",
      "  Getting requirements to build wheel: started\n",
      "  Getting requirements to build wheel: finished with status 'done'\n",
      "  Preparing metadata (pyproject.toml): started\n",
      "  Preparing metadata (pyproject.toml): finished with status 'done'\n",
      "Collecting pygetwindow>=0.0.5\n",
      "  Downloading PyGetWindow-0.0.9.tar.gz (9.7 kB)\n",
      "  Preparing metadata (setup.py): started\n",
      "  Preparing metadata (setup.py): finished with status 'done'\n",
      "Collecting mouseinfo\n",
      "  Downloading MouseInfo-0.1.3.tar.gz (10 kB)\n",
      "  Preparing metadata (setup.py): started\n",
      "  Preparing metadata (setup.py): finished with status 'done'\n",
      "Requirement already satisfied: idna<4,>=2.5 in c:\\users\\shree ganesh\\appdata\\roaming\\python\\python310\\site-packages (from requests->pywhatkit) (3.3)\n",
      "Requirement already satisfied: certifi>=2017.4.17 in c:\\users\\shree ganesh\\appdata\\roaming\\python\\python310\\site-packages (from requests->pywhatkit) (2022.6.15)\n",
      "Requirement already satisfied: urllib3<1.27,>=1.21.1 in c:\\users\\shree ganesh\\appdata\\roaming\\python\\python310\\site-packages (from requests->pywhatkit) (1.26.9)\n",
      "Requirement already satisfied: charset-normalizer<3,>=2 in c:\\users\\shree ganesh\\appdata\\roaming\\python\\python310\\site-packages (from requests->pywhatkit) (2.1.0)\n",
      "Requirement already satisfied: beautifulsoup4 in c:\\users\\shree ganesh\\appdata\\roaming\\python\\python310\\site-packages (from wikipedia->pywhatkit) (4.11.1)\n",
      "Requirement already satisfied: colorama in c:\\users\\shree ganesh\\appdata\\roaming\\python\\python310\\site-packages (from click>=8.0->Flask->pywhatkit) (0.4.5)\n",
      "Requirement already satisfied: MarkupSafe>=2.0 in c:\\users\\shree ganesh\\appdata\\roaming\\python\\python310\\site-packages (from Jinja2>=3.0->Flask->pywhatkit) (2.1.1)\n",
      "Collecting pyrect\n",
      "  Downloading PyRect-0.2.0.tar.gz (17 kB)\n",
      "  Preparing metadata (setup.py): started\n",
      "  Preparing metadata (setup.py): finished with status 'done'\n",
      "Requirement already satisfied: soupsieve>1.2 in c:\\users\\shree ganesh\\appdata\\roaming\\python\\python310\\site-packages (from beautifulsoup4->wikipedia->pywhatkit) (2.3.2.post1)\n",
      "Collecting pyperclip\n",
      "  Downloading pyperclip-1.8.2.tar.gz (20 kB)\n",
      "  Preparing metadata (setup.py): started\n",
      "  Preparing metadata (setup.py): finished with status 'done'\n",
      "Building wheels for collected packages: pyscreeze, pymsgbox\n",
      "  Building wheel for pyscreeze (pyproject.toml): started\n",
      "  Building wheel for pyscreeze (pyproject.toml): finished with status 'done'\n",
      "  Created wheel for pyscreeze: filename=PyScreeze-0.1.28-py3-none-any.whl size=13027 sha256=c103620260554efe2ae302c44c6fa502548ae3ecb7aa346bf382eae964f0dbab\n",
      "  Stored in directory: c:\\users\\shree ganesh\\appdata\\local\\pip\\cache\\wheels\\f7\\3c\\82\\2e45b77cc2efeb7db09eb00bae84c0b3f6d80683c20e98394b\n",
      "  Building wheel for pymsgbox (pyproject.toml): started\n",
      "  Building wheel for pymsgbox (pyproject.toml): finished with status 'done'\n",
      "  Created wheel for pymsgbox: filename=PyMsgBox-1.0.9-py3-none-any.whl size=7416 sha256=94bf7db560b5bcece39569bcc28db1a7e779eea38432c36f62114beeee63285d\n",
      "  Stored in directory: c:\\users\\shree ganesh\\appdata\\local\\pip\\cache\\wheels\\97\\61\\22\\1a0de2324b204d675c5bfb28b944101eb48dcf1a1fe87bcce7\n",
      "Successfully built pyscreeze pymsgbox\n",
      "Installing collected packages: PyTweening, pyscreeze, pyrect, pyperclip, pymsgbox, Werkzeug, pygetwindow, mouseinfo, itsdangerous, wikipedia, pyautogui, Flask, pywhatkit\n",
      "  Running setup.py install for PyTweening: started\n",
      "  Running setup.py install for PyTweening: finished with status 'done'\n",
      "  Running setup.py install for pyrect: started\n",
      "  Running setup.py install for pyrect: finished with status 'done'\n",
      "  Running setup.py install for pyperclip: started\n",
      "  Running setup.py install for pyperclip: finished with status 'done'\n",
      "  Running setup.py install for pygetwindow: started\n",
      "  Running setup.py install for pygetwindow: finished with status 'done'\n",
      "  Running setup.py install for mouseinfo: started\n",
      "  Running setup.py install for mouseinfo: finished with status 'done'\n",
      "  Running setup.py install for wikipedia: started\n",
      "  Running setup.py install for wikipedia: finished with status 'done'\n",
      "  Running setup.py install for pyautogui: started\n",
      "  Running setup.py install for pyautogui: finished with status 'done'\n",
      "Successfully installed Flask-2.2.3 PyTweening-1.0.4 Werkzeug-2.2.3 itsdangerous-2.1.2 mouseinfo-0.1.3 pyautogui-0.9.53 pygetwindow-0.0.9 pymsgbox-1.0.9 pyperclip-1.8.2 pyrect-0.2.0 pyscreeze-0.1.28 pywhatkit-5.4 wikipedia-1.4.0\n",
      "Note: you may need to restart the kernel to use updated packages.\n"
     ]
    },
    {
     "name": "stderr",
     "output_type": "stream",
     "text": [
      "  DEPRECATION: PyTweening is being installed using the legacy 'setup.py install' method, because it does not have a 'pyproject.toml' and the 'wheel' package is not installed. pip 23.1 will enforce this behaviour change. A possible replacement is to enable the '--use-pep517' option. Discussion can be found at https://github.com/pypa/pip/issues/8559\n",
      "  DEPRECATION: pyrect is being installed using the legacy 'setup.py install' method, because it does not have a 'pyproject.toml' and the 'wheel' package is not installed. pip 23.1 will enforce this behaviour change. A possible replacement is to enable the '--use-pep517' option. Discussion can be found at https://github.com/pypa/pip/issues/8559\n",
      "  DEPRECATION: pyperclip is being installed using the legacy 'setup.py install' method, because it does not have a 'pyproject.toml' and the 'wheel' package is not installed. pip 23.1 will enforce this behaviour change. A possible replacement is to enable the '--use-pep517' option. Discussion can be found at https://github.com/pypa/pip/issues/8559\n",
      "  DEPRECATION: pygetwindow is being installed using the legacy 'setup.py install' method, because it does not have a 'pyproject.toml' and the 'wheel' package is not installed. pip 23.1 will enforce this behaviour change. A possible replacement is to enable the '--use-pep517' option. Discussion can be found at https://github.com/pypa/pip/issues/8559\n",
      "  DEPRECATION: mouseinfo is being installed using the legacy 'setup.py install' method, because it does not have a 'pyproject.toml' and the 'wheel' package is not installed. pip 23.1 will enforce this behaviour change. A possible replacement is to enable the '--use-pep517' option. Discussion can be found at https://github.com/pypa/pip/issues/8559\n",
      "  DEPRECATION: wikipedia is being installed using the legacy 'setup.py install' method, because it does not have a 'pyproject.toml' and the 'wheel' package is not installed. pip 23.1 will enforce this behaviour change. A possible replacement is to enable the '--use-pep517' option. Discussion can be found at https://github.com/pypa/pip/issues/8559\n",
      "  DEPRECATION: pyautogui is being installed using the legacy 'setup.py install' method, because it does not have a 'pyproject.toml' and the 'wheel' package is not installed. pip 23.1 will enforce this behaviour change. A possible replacement is to enable the '--use-pep517' option. Discussion can be found at https://github.com/pypa/pip/issues/8559\n",
      "\n",
      "[notice] A new release of pip available: 22.3.1 -> 23.0.1\n",
      "[notice] To update, run: python.exe -m pip install --upgrade pip\n"
     ]
    }
   ],
   "source": [
    "pip install pywhatkit"
   ]
  },
  {
   "cell_type": "code",
   "execution_count": null,
   "metadata": {},
   "outputs": [],
   "source": []
  },
  {
   "cell_type": "code",
   "execution_count": 3,
   "metadata": {},
   "outputs": [
    {
     "name": "stdout",
     "output_type": "stream",
     "text": [
      "Defaulting to user installation because normal site-packages is not writeable\n",
      "Requirement already satisfied: SpeechRecognition in c:\\users\\shree ganesh\\appdata\\roaming\\python\\python310\\site-packages (3.9.0)\n",
      "Requirement already satisfied: requests>=2.26.0 in c:\\users\\shree ganesh\\appdata\\roaming\\python\\python310\\site-packages (from SpeechRecognition) (2.28.1)\n",
      "Requirement already satisfied: certifi>=2017.4.17 in c:\\users\\shree ganesh\\appdata\\roaming\\python\\python310\\site-packages (from requests>=2.26.0->SpeechRecognition) (2022.6.15)\n",
      "Requirement already satisfied: charset-normalizer<3,>=2 in c:\\users\\shree ganesh\\appdata\\roaming\\python\\python310\\site-packages (from requests>=2.26.0->SpeechRecognition) (2.1.0)\n",
      "Requirement already satisfied: idna<4,>=2.5 in c:\\users\\shree ganesh\\appdata\\roaming\\python\\python310\\site-packages (from requests>=2.26.0->SpeechRecognition) (3.3)\n",
      "Requirement already satisfied: urllib3<1.27,>=1.21.1 in c:\\users\\shree ganesh\\appdata\\roaming\\python\\python310\\site-packages (from requests>=2.26.0->SpeechRecognition) (1.26.9)\n",
      "Note: you may need to restart the kernel to use updated packages.\n"
     ]
    }
   ],
   "source": [
    "pip install SpeechRecognition"
   ]
  },
  {
   "cell_type": "code",
   "execution_count": 4,
   "metadata": {},
   "outputs": [],
   "source": [
    "import datetime"
   ]
  },
  {
   "cell_type": "code",
   "execution_count": 17,
   "metadata": {},
   "outputs": [
    {
     "name": "stdout",
     "output_type": "stream",
     "text": [
      "Defaulting to user installation because normal site-packages is not writeable\n",
      "Collecting pyjokes\n",
      "  Downloading pyjokes-0.6.0-py2.py3-none-any.whl (26 kB)\n",
      "Installing collected packages: pyjokes\n",
      "Successfully installed pyjokes-0.6.0\n",
      "Note: you may need to restart the kernel to use updated packages.\n"
     ]
    }
   ],
   "source": [
    "pip install pyjokes\n"
   ]
  },
  {
   "cell_type": "code",
   "execution_count": 5,
   "metadata": {},
   "outputs": [
    {
     "name": "stdout",
     "output_type": "stream",
     "text": [
      "listening....\n",
      "result2:\n",
      "[]\n",
      "\n",
      "listening....\n",
      "result2:\n",
      "[]\n",
      "\n",
      "listening....\n",
      "result2:\n",
      "{   'alternative': [   {   'confidence': 0.75559062,\n",
      "                           'transcript': 'tell me a joke'},\n",
      "                       {'transcript': 'tell me joke'},\n",
      "                       {'transcript': 'tell me'}],\n",
      "    'final': True}\n",
      "tell me a joke\n",
      "listening....\n",
      "result2:\n",
      "[]\n",
      "\n",
      "listening....\n",
      "result2:\n",
      "[]\n",
      "\n",
      "listening....\n",
      "result2:\n",
      "[]\n",
      "\n",
      "listening....\n",
      "result2:\n",
      "[]\n",
      "\n",
      "listening....\n",
      "result2:\n",
      "{   'alternative': [   {'confidence': 0.86038846, 'transcript': 'play a song'},\n",
      "                       {'transcript': 'play song'}],\n",
      "    'final': True}\n",
      "play a song\n",
      " a song\n",
      "listening....\n",
      "result2:\n",
      "[]\n",
      "\n",
      "listening....\n",
      "result2:\n",
      "[]\n",
      "\n",
      "listening....\n",
      "result2:\n",
      "{   'alternative': [   {   'confidence': 0.77117807,\n",
      "                           'transcript': 'play a serial'},\n",
      "                       {'transcript': 'play serial'},\n",
      "                       {'transcript': 'serial'}],\n",
      "    'final': True}\n",
      "play a serial\n",
      " a serial\n",
      "listening....\n",
      "result2:\n",
      "[]\n",
      "\n",
      "listening....\n",
      "result2:\n",
      "[]\n",
      "\n",
      "listening....\n",
      "result2:\n",
      "[]\n",
      "\n",
      "listening....\n",
      "result2:\n",
      "[]\n",
      "\n",
      "listening....\n",
      "result2:\n",
      "[]\n",
      "\n",
      "listening....\n",
      "result2:\n",
      "[]\n",
      "\n",
      "listening....\n",
      "result2:\n",
      "[]\n",
      "\n",
      "listening....\n",
      "result2:\n",
      "[]\n",
      "\n",
      "listening....\n",
      "result2:\n",
      "[]\n",
      "\n",
      "listening....\n",
      "result2:\n",
      "[]\n",
      "\n",
      "listening....\n",
      "result2:\n",
      "[]\n",
      "\n",
      "listening....\n",
      "result2:\n",
      "[]\n",
      "\n",
      "listening....\n",
      "result2:\n",
      "[]\n",
      "\n",
      "listening....\n",
      "result2:\n",
      "[]\n",
      "\n",
      "listening....\n"
     ]
    }
   ],
   "source": [
    "import speech_recognition as sr #1\n",
    "import pyttsx3 #2 #for lets alexa talks to me\n",
    "import pywhatkit\n",
    "import wikipedia\n",
    "import pyjokes\n",
    "listener=sr.Recognizer()\n",
    "engine=pyttsx3.init()\n",
    "# to change male voice into female\n",
    "voices=engine.getProperty(\"voices\")\n",
    "engine.setProperty(\"voice\",voices[1].id) #\n",
    "# lets define function talk\n",
    "def talk(text):\n",
    "  engine.say(text)\n",
    "  # engine.say(\"i am your alexa\")\n",
    "  # engine.say(\"what can i do for you\")\n",
    "  engine.runAndWait()\n",
    "def take_command():\n",
    "  try:\n",
    "    command=''\n",
    "    with sr.Microphone() as source:\n",
    "      print(\"listening....\")\n",
    "      voice=listener.listen(source)\n",
    "      command=listener.recognize_google(voice)\n",
    "      command=command.lower()\n",
    "      if \"alexa\" in command:\n",
    "        command=command.replace(\"alexa\",\"\") # to make command generalize for anyone \n",
    "          # print(command)\n",
    "          # talk(command)\n",
    "        print(command)\n",
    "    \n",
    "  except:\n",
    "      pass\n",
    "  return command\n",
    "def run_alexa():\n",
    "  command=take_command()\n",
    "  print(command)\n",
    "  if \"play\" in command:\n",
    "    song=command.replace('play',\"\")\n",
    "    talk(\"playing\"+song)\n",
    "    print(song)\n",
    "    pywhatkit.playonyt(song)\n",
    "    # print(\"playing\")\n",
    "  elif 'time' in command:\n",
    "    # time=datetime.datetime.now().strftime('%H:%M :%S')\n",
    "    time=datetime.datetime.now().strftime('%I:%M %p') # 12 hour format of time\n",
    "    talk('current time is' + time)\n",
    "    # print(time)\n",
    "    \n",
    "  elif 'who the heck is ' in command:\n",
    "    person=command.replace('who the heck is','')\n",
    "    info=wikipedia.summary(person,1)\n",
    "    print(info)\n",
    "    talk(info)\n",
    "  # run_alexa()\n",
    "  elif ' date' in command:\n",
    "    talk('sorry, i have a headache')\n",
    "  elif \"are you single\" in command:\n",
    "    talk(\"I am in a relationship with wifi\")\n",
    "  elif 'joke' in command:\n",
    "    talk(pyjokes.get_joke())\n",
    "  else:\n",
    "    talk('please say the command again ')\n",
    "\n",
    "while True:\n",
    "  run_alexa()"
   ]
  },
  {
   "cell_type": "code",
   "execution_count": null,
   "metadata": {},
   "outputs": [
    {
     "name": "stdout",
     "output_type": "stream",
     "text": [
      "listening...\n",
      "result2:\n",
      "[]\n"
     ]
    },
    {
     "ename": "UnboundLocalError",
     "evalue": "local variable 'command' referenced before assignment",
     "output_type": "error",
     "traceback": [
      "\u001b[1;31m---------------------------------------------------------------------------\u001b[0m",
      "\u001b[1;31mUnboundLocalError\u001b[0m                         Traceback (most recent call last)",
      "\u001b[1;32mUntitled-1.ipynb Cell 10\u001b[0m in \u001b[0;36m<cell line: 59>\u001b[1;34m()\u001b[0m\n\u001b[0;32m     <a href='vscode-notebook-cell:Untitled-1.ipynb?jupyter-notebook#W5sdW50aXRsZWQ%3D?line=55'>56</a>\u001b[0m         talk(\u001b[39m'\u001b[39m\u001b[39mPlease say the command again.\u001b[39m\u001b[39m'\u001b[39m)\n\u001b[0;32m     <a href='vscode-notebook-cell:Untitled-1.ipynb?jupyter-notebook#W5sdW50aXRsZWQ%3D?line=58'>59</a>\u001b[0m \u001b[39mwhile\u001b[39;00m \u001b[39mTrue\u001b[39;00m:\n\u001b[1;32m---> <a href='vscode-notebook-cell:Untitled-1.ipynb?jupyter-notebook#W5sdW50aXRsZWQ%3D?line=59'>60</a>\u001b[0m     run_alexa()\n",
      "\u001b[1;32mUntitled-1.ipynb Cell 10\u001b[0m in \u001b[0;36mrun_alexa\u001b[1;34m()\u001b[0m\n\u001b[0;32m     <a href='vscode-notebook-cell:Untitled-1.ipynb?jupyter-notebook#W5sdW50aXRsZWQ%3D?line=33'>34</a>\u001b[0m \u001b[39mdef\u001b[39;00m \u001b[39mrun_alexa\u001b[39m():\n\u001b[1;32m---> <a href='vscode-notebook-cell:Untitled-1.ipynb?jupyter-notebook#W5sdW50aXRsZWQ%3D?line=34'>35</a>\u001b[0m     command \u001b[39m=\u001b[39m take_command()\n\u001b[0;32m     <a href='vscode-notebook-cell:Untitled-1.ipynb?jupyter-notebook#W5sdW50aXRsZWQ%3D?line=35'>36</a>\u001b[0m     \u001b[39mprint\u001b[39m(command)\n\u001b[0;32m     <a href='vscode-notebook-cell:Untitled-1.ipynb?jupyter-notebook#W5sdW50aXRsZWQ%3D?line=36'>37</a>\u001b[0m     \u001b[39mif\u001b[39;00m \u001b[39m'\u001b[39m\u001b[39mplay\u001b[39m\u001b[39m'\u001b[39m \u001b[39min\u001b[39;00m command:\n",
      "\u001b[1;32mUntitled-1.ipynb Cell 10\u001b[0m in \u001b[0;36mtake_command\u001b[1;34m()\u001b[0m\n\u001b[0;32m     <a href='vscode-notebook-cell:Untitled-1.ipynb?jupyter-notebook#W5sdW50aXRsZWQ%3D?line=28'>29</a>\u001b[0m \u001b[39mexcept\u001b[39;00m:\n\u001b[0;32m     <a href='vscode-notebook-cell:Untitled-1.ipynb?jupyter-notebook#W5sdW50aXRsZWQ%3D?line=29'>30</a>\u001b[0m     \u001b[39mpass\u001b[39;00m\n\u001b[1;32m---> <a href='vscode-notebook-cell:Untitled-1.ipynb?jupyter-notebook#W5sdW50aXRsZWQ%3D?line=30'>31</a>\u001b[0m \u001b[39mreturn\u001b[39;00m command\n",
      "\u001b[1;31mUnboundLocalError\u001b[0m: local variable 'command' referenced before assignment"
     ]
    }
   ],
   "source": []
  },
  {
   "cell_type": "code",
   "execution_count": null,
   "metadata": {},
   "outputs": [],
   "source": []
  }
 ],
 "metadata": {
  "kernelspec": {
   "display_name": "Python 3",
   "language": "python",
   "name": "python3"
  },
  "language_info": {
   "codemirror_mode": {
    "name": "ipython",
    "version": 3
   },
   "file_extension": ".py",
   "mimetype": "text/x-python",
   "name": "python",
   "nbconvert_exporter": "python",
   "pygments_lexer": "ipython3",
   "version": "3.10.5"
  },
  "orig_nbformat": 4
 },
 "nbformat": 4,
 "nbformat_minor": 2
}
